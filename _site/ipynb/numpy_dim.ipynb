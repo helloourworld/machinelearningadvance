{
 "metadata": {
  "name": "Numpy_Dim"
 },
 "nbformat": 2,
 "worksheets": [
  {
   "cells": [
    {
     "cell_type": "markdown",
     "source": [
      "\u5728 Numpy \u7684\u4f7f\u7528\u8fc7\u7a0b\u4e2d\uff0c\u6211\u4eec\u5e38\u5e38\u9700\u8981\u4ece\u539f\u6570\u7ec4\u4e2d\u63d0\u53d6\u90e8\u5206\u4fe1\u606f\u6216\u5c06\u539f\u6570\u7ec4\u62fc\u51d1\u6210\u4e00\u4e2a\u9ad8\u7ef4\u7684\u6570\u7ec4\uff0c\u8fd9\u4e9b\u64cd\u4f5c\u6839\u672c\u4e0a\u6765\u8bf4\u90fd\u662f\u5e0c\u671b\u57fa\u4e8e\u539f\u6570\u7ec4\u5f97\u5230\u4e00\u4e2a\u7ef4\u5ea6\u4e0d\u540c\u7684\u6570\u7ec4\u3002",
      "\u4e0b\u9762\u5bf9\u4e00\u4e9b\u5e38\u7528\u65b9\u6cd5\u8fdb\u884c\u603b\u7ed3\u3002",
      "",
      "## \u964d\u4f4e\u7ef4\u5ea6",
      "",
      "\u6bd4\u5982\u6211\u4eec\u5e0c\u671b\u4ece\u4e00\u4e2a\u4e8c\u7ef4\u6570\u7ec4\u4e2d\u62bd\u51fa\u67d0\u4e9b\u5217\uff0c\u53ef\u4ee5\u8fd9\u6837\uff1a"
     ]
    },
    {
     "cell_type": "code",
     "collapsed": false,
     "input": [
      "a = np.arange(12).reshape(4,3)",
      "a"
     ],
     "language": "python",
     "outputs": [
      {
       "output_type": "pyout",
       "prompt_number": 45,
       "text": [
        "array([[ 0, 1, 2],",
        " [ 3, 4, 5],",
        " [ 6, 7, 8],",
        " [ 9, 10, 11]])"
       ]
      }
     ],
     "prompt_number": 45
    },
    {
     "cell_type": "code",
     "collapsed": false,
     "input": [
      "b = np.array([True, False, True, False])",
      "a[b,:]"
     ],
     "language": "python",
     "outputs": [
      {
       "output_type": "pyout",
       "prompt_number": 46,
       "text": [
        "array([[0, 1, 2],",
        " [6, 7, 8]])"
       ]
      }
     ],
     "prompt_number": 46
    },
    {
     "cell_type": "markdown",
     "source": [
      "\u5229\u7528 ndarray \u7684 broadcasting \u673a\u5236\uff0c\u6211\u4eec\u53ef\u4ee5\u76f4\u63a5\u5199\u6210"
     ]
    },
    {
     "cell_type": "code",
     "collapsed": false,
     "input": [
      "a[b]"
     ],
     "language": "python",
     "outputs": [
      {
       "output_type": "pyout",
       "prompt_number": 47,
       "text": [
        "array([[0, 1, 2],",
        " [6, 7, 8]])"
       ]
      }
     ],
     "prompt_number": 47
    },
    {
     "cell_type": "markdown",
     "source": [
      "$b$ \u4e5f\u53ef\u4ee5\u4e0d\u7528\u4e0e\u7b2c\u4e00\u7ef4\u7684\u957f\u5ea6\u5339\u914d\uff0c\u7f3a\u5931\u90e8\u5206\u9ed8\u8ba4\u4e3a False"
     ]
    },
    {
     "cell_type": "code",
     "collapsed": false,
     "input": [
      "b = np.array([True, False, True])",
      "a[b,:]"
     ],
     "language": "python",
     "outputs": [
      {
       "output_type": "pyout",
       "prompt_number": 48,
       "text": [
        "array([[0, 1, 2],",
        " [6, 7, 8]])"
       ]
      }
     ],
     "prompt_number": 48
    },
    {
     "cell_type": "markdown",
     "source": [
      "\u9700\u8981\u6ce8\u610f\u7684\u662f $b$ \u5fc5\u9808\u4e5f\u662f\u4e00\u4e2a ndarray\uff0c\u5426\u5219 numpy \u4e0d\u4f1a\u5c06\u5176\u5f53\u4f5c\u4e00\u4e2a mask \u6570\u7ec4\uff0c\u800c\u662f\u5f53\u4f5c index \u6570\u7ec4\uff0c\u6bd4\u5982"
     ]
    },
    {
     "cell_type": "code",
     "collapsed": false,
     "input": [
      "b = [True, False, True, False]",
      "a[b], a[b,:]"
     ],
     "language": "python",
     "outputs": [
      {
       "output_type": "pyout",
       "prompt_number": 49,
       "text": [
        "(array([[3, 4, 5],",
        " [0, 1, 2],",
        " [3, 4, 5],",
        " [0, 1, 2]]),",
        " array([[3, 4, 5],",
        " [0, 1, 2],",
        " [3, 4, 5],",
        " [0, 1, 2]]))"
       ]
      }
     ],
     "prompt_number": 49
    },
    {
     "cell_type": "markdown",
     "source": [
      "\u4e0a\u4f8b\u4e2d numpy \u5c06 True \u548c False \u76f4\u63a5\u5f53\u4f5c 1 \u548c 0 \u6765\u5904\u7406\u3002\u5176\u5b9e\u7528 index \u6570\u7ec4\u540c\u6837\u53ef\u8fbe\u5230 mask \u6570\u7ec4\u7684\u6548\u679c"
     ]
    },
    {
     "cell_type": "code",
     "collapsed": false,
     "input": [
      "b = [0, 2]",
      "a[b,:]"
     ],
     "language": "python",
     "outputs": [
      {
       "output_type": "pyout",
       "prompt_number": 50,
       "text": [
        "array([[0, 1, 2],",
        " [6, 7, 8]])"
       ]
      }
     ],
     "prompt_number": 50
    },
    {
     "cell_type": "markdown",
     "source": [
      "\u603b\u7ed3\u4e00\u4e0b\uff0c\u53ea\u6709\u5e03\u5c14\u578b\u7684 ndarray \u624d\u80fd\u5f53\u4f5c mask \u6570\u7ec4\u63d0\u53d6\u6570\u503c\u3002\u4e0b\u9762\u5217\u4e3e\u4e00\u4e9b\u9ad8\u7ef4\u7684\u4f8b\u5b50\uff1a"
     ]
    },
    {
     "cell_type": "code",
     "collapsed": false,
     "input": [
      "a = np.arange(16).reshape((2,2,4))",
      "a"
     ],
     "language": "python",
     "outputs": [
      {
       "output_type": "pyout",
       "prompt_number": 51,
       "text": [
        "array([[[ 0, 1, 2, 3],",
        " [ 4, 5, 6, 7]],",
        "",
        " [[ 8, 9, 10, 11],",
        " [12, 13, 14, 15]]])"
       ]
      }
     ],
     "prompt_number": 51
    },
    {
     "cell_type": "code",
     "collapsed": false,
     "input": [
      "b = np.array([[True, False], [True, False]])",
      "a[b,:]"
     ],
     "language": "python",
     "outputs": [
      {
       "output_type": "pyout",
       "prompt_number": 52,
       "text": [
        "array([[ 0, 1, 2, 3],",
        " [ 8, 9, 10, 11]])"
       ]
      }
     ],
     "prompt_number": 52
    },
    {
     "cell_type": "markdown",
     "source": [
      "\u8fd9\u7b49\u4ef7\u4e8e\u5728\u524d\u4e24\u7ef4\u6307\u5b9a\u5750\u6807"
     ]
    },
    {
     "cell_type": "code",
     "collapsed": false,
     "input": [
      "a[[0,1], [0, 0], :]"
     ],
     "language": "python",
     "outputs": [
      {
       "output_type": "pyout",
       "prompt_number": 53,
       "text": [
        "array([[ 0, 1, 2, 3],",
        " [ 8, 9, 10, 11]])"
       ]
      }
     ],
     "prompt_number": 53
    },
    {
     "cell_type": "code",
     "collapsed": false,
     "input": [
      "a[b.nonzero()]"
     ],
     "language": "python",
     "outputs": [
      {
       "output_type": "pyout",
       "prompt_number": 54,
       "text": [
        "array([[ 0, 1, 2, 3],",
        " [ 8, 9, 10, 11]])"
       ]
      }
     ],
     "prompt_number": 54
    },
    {
     "cell_type": "markdown",
     "source": [
      "## \u589e\u52a0\u7ef4\u5ea6",
      "",
      "\u6709\u4e24\u79cd\u5e38\u7528\u65b9\u6cd5\u53ef\u4ee5\u7528\u4e8e\u589e\u52a0\u6570\u7ec4\u7ef4\u5ea6\uff0c\u4e00\u662f\u4f7f\u7528 index \u6570\u7ec4\uff08\u5fc5\u987b\u662f ndarray \u7c7b\u578b\uff09\uff0c\u4e8c\u662f\u501f\u52a9 ``newaxis``\uff0c\u8fd9\u91cc\u53ea\u8ba8\u8bba\u7b2c\u4e8c\u79cd\u65b9\u6cd5\uff0c\u56e0\u4e3a\u5176\u7b80\u5355\u76f4\u89c2\u3002"
     ]
    },
    {
     "cell_type": "markdown",
     "source": [
      "\u6bd4\u5982\u6211\u4eec\u5e0c\u671b\u5c06\u4e24\u4e2a\u4e8c\u7ef4\u6570\u7ec4\u5728\u4e00\u4e2a\u65b0\u7684\u7ef4\u5ea6\u4e0a\u62fc\u63a5\u6210\u4e00\u4e2a\u4e09\u7ef4\u6570\u7ec4\uff0c\u6211\u4eec\u53ef\u4ee5\u5148\u5229\u7528 ``newaxis`` \u6784\u5efa\u51fa\u8fd9\u4e2a\u7ef4\u5ea6\uff0c\u7136\u540e\u518d\u4f7f\u7528 `concatenate`\uff0c`vstack`, `hstack` \u7b49\u65b9\u6cd5\u3002"
     ]
    },
    {
     "cell_type": "code",
     "collapsed": false,
     "input": [
      "a = np.array([[1,2],[3,4]])",
      "b = np.array([[5,6],[7,8]])",
      "a_ = a[..., np.newaxis]",
      "b_ = b[..., np.newaxis]",
      "c = np.concatenate((a_, b_), 2)",
      "c"
     ],
     "language": "python",
     "outputs": [
      {
       "output_type": "pyout",
       "prompt_number": 55,
       "text": [
        "array([[[1, 5],",
        " [2, 6]],",
        "",
        " [[3, 7],",
        " [4, 8]]])"
       ]
      }
     ],
     "prompt_number": 55
    },
    {
     "cell_type": "markdown",
     "source": [
      "*\u6ce8\u610f*\uff1a `concatenate` `vstack` `hstack` \u7b49\u65b9\u6cd5\u5e76\u4e0d\u80fd\u4fee\u6539\u6570\u7ec4\u672c\u8eab\u7684\u7ef4\u5ea6\u3002"
     ]
    },
    {
     "cell_type": "markdown",
     "source": [
      "\u5047\u8bbe\u6211\u4eec\u60f3\u8981\u5728\u7b2c\u4e00\u7ef4\u4e4b\u524d\u63d2\u5165\u65b0\u7ef4\u5ea6\uff0c\u53ef\u4ee5\u66f4\u7b80\u5355\u5730\u5199\u6210\uff1a"
     ]
    },
    {
     "cell_type": "code",
     "collapsed": false,
     "input": [
      "c = np.array([a, b])",
      "c"
     ],
     "language": "python",
     "outputs": [
      {
       "output_type": "pyout",
       "prompt_number": 56,
       "text": [
        "array([[[1, 2],",
        " [3, 4]],",
        "",
        " [[5, 6],",
        " [7, 8]]])"
       ]
      }
     ],
     "prompt_number": 56
    },
    {
     "cell_type": "markdown",
     "source": [
      "\u5f53\u7136\u5982\u679c\u89c9\u5f97 `newaxis` \u9ebb\u70e6\uff0c\u53ef\u4ee5\u5148\u7528\u4e0a\u9762\u7684\u65b9\u6cd5\u589e\u52a0\u65b0\u7ef4\u5ea6\uff0c\u7136\u540e\u518d\u5c06\u5176\u4ece\u7b2c\u4e00\u7ef4\u79fb\u81f3\u60f3\u8981\u7684\u4f4d\u7f6e:"
     ]
    },
    {
     "cell_type": "code",
     "collapsed": false,
     "input": [
      "np.rollaxis(c,0,3)"
     ],
     "language": "python",
     "outputs": [
      {
       "output_type": "pyout",
       "prompt_number": 57,
       "text": [
        "array([[[1, 5],",
        " [2, 6]],",
        "",
        " [[3, 7],",
        " [4, 8]]])"
       ]
      }
     ],
     "prompt_number": 57
    },
    {
     "cell_type": "markdown",
     "source": [
      "*\u6ce8\u610f*\uff1a `np.rollaxis` \u8fd9\u4e2a\u51fd\u6570\u8bbe\u8ba1\u5f97\u6781\u5176\u7cdf\u7cd5\uff0c\u5b83\u7684\u7b2c\u4e8c\u4e2a\u53c2\u6570\u4e3a\u9700\u8981\u8c03\u6574\u4f4d\u7f6e\u7684\u8f74\uff0c\u7b2c\u4e09\u4e2a\u53c2\u6570\u4e3a\u76ee\u6807\u4f4d\u7f6e\u3002\u5982\u679c\u5f53\u524d\u4f4d\u7f6e\u7b49\u4e8e\u76ee\u6807\u4f4d\u7f6e\uff0c\u51fd\u6570\u4e0d\u4f5c\u4efb\u4f55\u64cd\u4f5c\uff0c\u5426\u5219\u5f53\u524d\u8f74\u5c06\u88ab\u8c03\u6574\u81f3\u7d27\u90bb\u76ee\u6807\u4f4d\u7f6e\u7684**\u524d\u4e00\u4f4d\u7f6e**\u5904\uff0c`np.rollaxis(x,n,n+1)` \u90fd\u662f\u6ca1\u6709\u5b9e\u9645\u6548\u679c\u7684\u5199\u6cd5\u3002"
     ]
    },
    {
     "cell_type": "markdown",
     "source": [
      "##\u603b\u7ed3",
      "",
      "* \u51cf\u5c11\u7ef4\u5ea6\u4e3b\u8981\u901a\u8fc7\u5728\u6570\u7ec4\u7684\u67d0\u4e9b\u7ef4\u5ea6\u4e2d\u9009\u53d6\u7b26\u5408\u6761\u4ef6\u7684\u5143\u7d20\uff0c\u5177\u4f53\u53ef\u91c7\u7528 index \u6216 mask \u6570\u7ec4\u3002",
      "* \u589e\u52a0\u7ef4\u5ea6\u4e3b\u8981\u901a\u8fc7 np.newaxis \u6216\u76f4\u63a5\u6784\u5efa\u65b0\u6570\u7ec4\u5e76\u7ed3\u5408 rollaxis",
      "* rollaxis sucks"
     ]
    }
   ]
  }
 ]
}