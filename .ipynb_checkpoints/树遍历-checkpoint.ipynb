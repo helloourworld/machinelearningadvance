{
 "cells": [
  {
   "cell_type": "markdown",
   "metadata": {},
   "source": [
    "http://blog.csdn.net/bone_ace/article/details/46718683"
   ]
  },
  {
   "cell_type": "code",
   "execution_count": 1,
   "metadata": {
    "collapsed": false
   },
   "outputs": [],
   "source": [
    "class Node(object):\n",
    "    \"\"\"节点类\"\"\"\n",
    "    def __init__(self, elem=-1, lchild=None, rchild=None):\n",
    "        self.elem = elem\n",
    "        self.lchild = lchild\n",
    "        self.rchild = rchild\n",
    "            \n"
   ]
  },
  {
   "cell_type": "code",
   "execution_count": 59,
   "metadata": {
    "collapsed": true
   },
   "outputs": [],
   "source": [
    "class Tree(object):\n",
    "\n",
    "    def __init__(self):\n",
    "        self.root = Node()\n",
    "    \n",
    "    def add(self, elem):\n",
    "        \"\"\"为树加节点\"\"\"\n",
    "        if self.root.elem == -1:\n",
    "            self.root = node\n",
    "        else:\n",
    "            myQueue = []\n",
    "            treeNode = self.root\n",
    "            myQueue.append(treeNode)\n",
    "            while myQueue:\n",
    "                treeNode = myQueue.pop(0)\n",
    "                if tree.Node.lchild == None:\n",
    "                    treeNode.lchild = node\n",
    "                    return\n",
    "                if treeNode.rchild == None:\n",
    "                    treeNode.rchild = node\n",
    "                    return\n",
    "                else:\n",
    "                    myQueue.append(treeNode.lchild)\n",
    "                    myQueue.append(treeNode.rchild)\n"
   ]
  }
 ],
 "metadata": {
  "anaconda-cloud": {},
  "kernelspec": {
   "display_name": "Python [Root]",
   "language": "python",
   "name": "Python [Root]"
  },
  "language_info": {
   "codemirror_mode": {
    "name": "ipython",
    "version": 2
   },
   "file_extension": ".py",
   "mimetype": "text/x-python",
   "name": "python",
   "nbconvert_exporter": "python",
   "pygments_lexer": "ipython2",
   "version": "2.7.12"
  }
 },
 "nbformat": 4,
 "nbformat_minor": 0
}
